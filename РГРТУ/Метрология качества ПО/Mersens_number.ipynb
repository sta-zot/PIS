{
 "cells": [
  {
   "cell_type": "code",
   "execution_count": 15,
   "id": "ec2665a5-4310-4924-9515-4c8c7d17a442",
   "metadata": {
    "tags": []
   },
   "outputs": [],
   "source": [
    "import math\n",
    "# Дано число мерсенн, необходимо определить является ли оно простым\n",
    "\n",
    "# Функция проверки простоты числа\n",
    "def isprime(n):\n",
    "    for i in range(2, math.sqrt(n)):\n",
    "        if (n % i) == 0:\n",
    "            return False\n",
    "        return True\n",
    "    \n",
    "\n",
    "def check_mersens_number(num):\n",
    "    try:\n",
    "        number = int(num)\n",
    "    except ValueError:\n",
    "        print(f' \"{num}\" invalid input. Expected number')\n",
    "        return 0\n",
    "    \n",
    "    p = math.log2(number +1)\n",
    "    S, i = 4, 1\n",
    "    if isprime(p):\n",
    "        while i != p-1:\n",
    "            S = (S**2 - 2) % number\n",
    "            i =i + 1\n",
    "        if S == 0:\n",
    "            return True\n",
    "        else:\n",
    "            return False\n",
    "    else:\n",
    "        return False\n",
    "          \n"
   ]
  },
  {
   "cell_type": "code",
   "execution_count": 5,
   "id": "58baf113-3d6e-45cd-8767-6f48b40f70d4",
   "metadata": {
    "tags": []
   },
   "outputs": [],
   "source": [
    "def digits_of(n):\n",
    "        return [int(d) for d in str(n)]"
   ]
  },
  {
   "cell_type": "code",
   "execution_count": 12,
   "id": "54ddba54-b811-448a-b04d-9f00eb9f72b6",
   "metadata": {
    "tags": []
   },
   "outputs": [],
   "source": [
    "digits = digits_of(123456789)"
   ]
  },
  {
   "cell_type": "code",
   "execution_count": 13,
   "id": "62bdbc29-9450-489a-9689-03abaf767a12",
   "metadata": {
    "tags": []
   },
   "outputs": [
    {
     "name": "stdout",
     "output_type": "stream",
     "text": [
      "[9, 7, 5, 3, 1]\n",
      "[8, 6, 4, 2]\n",
      "[1, 2, 3, 4, 5, 6, 7, 8, 9]\n"
     ]
    }
   ],
   "source": [
    "print(digits[-1::-2])\n",
    "print(digits[-2::-2])\n",
    "print(digits)"
   ]
  },
  {
   "cell_type": "code",
   "execution_count": null,
   "id": "0fd2972a-1c41-4a40-86f6-663c03e79e61",
   "metadata": {},
   "outputs": [],
   "source": []
  }
 ],
 "metadata": {
  "kernelspec": {
   "display_name": "Python 3 (ipykernel)",
   "language": "python",
   "name": "python3"
  },
  "language_info": {
   "codemirror_mode": {
    "name": "ipython",
    "version": 3
   },
   "file_extension": ".py",
   "mimetype": "text/x-python",
   "name": "python",
   "nbconvert_exporter": "python",
   "pygments_lexer": "ipython3",
   "version": "3.10.13"
  }
 },
 "nbformat": 4,
 "nbformat_minor": 5
}
